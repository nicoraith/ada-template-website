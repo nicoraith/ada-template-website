{
 "cells": [
  {
   "cell_type": "markdown",
   "id": "d976f11f",
   "metadata": {},
   "source": [
    "<p style=\"text-align:center;font-size:30px\">  <strong>Into the Male Gaze </strong> </p>\n",
    "<p style=\"text-align:center;font-size:24px\">  <strong>A Story of Representation in Cinema </strong> </p>\n",
    "\n",
    "<div style=\"text-align: center;\">\n",
    "<img width=\"600\" src=\"assets/img/Showtime.jpg\">\n",
    "</div>\n",
    "\n",
    "<br />\n",
    "<br />\n",
    "\n",
    "### About CMU Movie Summary Corpus\n",
    "All data comes from the CMU Movie Summary Corpus Datasets. CMU Movie Summary is an open corupus containing 42,306 movie plot summaries extracted from wikipedia, as well as metadeta from Freebase including revenues, genres, release dates, runtimes, languages, character names, and actor information. It was compiled by the Language Technologies Institute and Machine Learning Department at Carnegie Mellon University. Movie data ranges from 1888 to 2016. The CMU Corpus is publically available [here](http://www.cs.cmu.edu/~ark/personas/).\n",
    "<br />\n",
    "<br />\n",
    "\n",
    "### Framing our Research\n",
    "<img align=\"right\" width=\"200\" src=\"assets/img/Duality.jpg\">\n",
    "Art imitates life and life imitates art - Cinema has the power to capture the zeitgeist of an era. In this project we will be studying gender representation in cinema to better understand trends in societal sentiments. Our goal is to assess if representations differ by gender and if they have evolved through time. This project is motivated by the fact that the 20th century was a time of dynamic social upheavel and mobility, e.g., in Switzerland, womens sufferage at the federal level was granted as late as 1971.\n",
    "\n",
    "This project is predicated on the idea that character portrayal in cinema serves as a mirror for society, which gave rise to the character. Character focused analysis will lean heavily on Stanford NLP library in order to understand lexical groups by which characters are represented.\n",
    "<br />\n",
    "<br />\n",
    "\n",
    "### Cinema's Increasing Impact\n",
    "Since its conception in the late 19th century, The cinema industry's relevance and impact has continued to grow. In America alone, three in four people reported going to the cinema just last year... As the industry grows, the dynamic interplay between cinema and culture continues to reinforce itself. Cinema simultaneously influences culture while being a product of it. In such a way it serves as a mirror to common sentiment, attitudes, and concerns as well as a driver for those feelings themselves. \n",
    "\n",
    "<br />\n",
    "\n",
    "<table>\n",
    "  <tr>\n",
    "    <td> <i>Figure 1: Movie releases by year </i> </td>\n",
    "     <td> <i>Figure 2: Average revenue by year </i> </td>\n",
    "  </tr>\n",
    "  <tr>\n",
    "    <td><img src=\"assets/img/OMG.jpg\" width=350 ></td>\n",
    "    <td><img src=\"assets/img/OMG.jpg\" width=350 ></td>\n",
    "  </tr>\n",
    " </table>\n",
    "\n",
    "- Movie releases by year plot. want to edit it in seaborn / potentially make it interactive\n",
    "- Movie revenue by year plot want to edit it in seaborn / potentially make it interactive\n",
    "\n",
    "From preliminary exploration of our data, it is immediately evident that the cinema industry is a growing one. In _Figure 1_ we see the meteoric rise in raw amount of movies being released over the last century. The sharp drop off in the 2010's is simply due to an end to the data collection, and does not reflect a real decrease in movie releases. _Figure 2_ shows the mean revenue of these movies over the same timeframe. Bubble sizes reflect the amount of movies being used in the averaging calculation. When paired together we get a clear indicator of the increasing market size and depth over time.\n",
    "\n",
    "So what - blurb about why it matters. growing impact\n",
    "\n",
    "### What are we looking for? Research questions\n",
    "\n",
    "### Initial findings of data exploration. \n",
    "* Present preliminary data\n",
    "    + Fewer women than men in the cinema\n",
    "    + Age graph: average age difference between genders\n",
    "* Draw an initial conclusion and set the scene\n",
    "    + There seems to be an imbalance in gender representation. Thus, there is a  need for further exploration\n",
    "\n",
    "### Data Analysis\n",
    "* NLP: Agent, Patient, Attributes\n",
    "    + Lexical analysis: we can compare the raw output of NLP output. See the more significant differences between gender in patient, agent and attributes\n",
    "    + PCA: More precise analysis which considers only the most important categories which exhibit the most significant differences between the genders\n",
    "    + Sentiment Analysis with empath\n",
    "    + FURTHER ANALYSIS TO COME\n",
    "    \n",
    "### Conclusion on the results"
   ]
  },
  {
   "cell_type": "code",
   "execution_count": null,
   "id": "1f937207",
   "metadata": {},
   "outputs": [],
   "source": []
  }
 ],
 "metadata": {
  "kernelspec": {
   "display_name": "Python 3 (ipykernel)",
   "language": "python",
   "name": "python3"
  },
  "language_info": {
   "codemirror_mode": {
    "name": "ipython",
    "version": 3
   },
   "file_extension": ".py",
   "mimetype": "text/x-python",
   "name": "python",
   "nbconvert_exporter": "python",
   "pygments_lexer": "ipython3",
   "version": "3.9.13"
  },
  "vscode": {
   "interpreter": {
    "hash": "aee8b7b246df8f9039afb4144a1f6fd8d2ca17a180786b69acc140d282b71a49"
   }
  }
 },
 "nbformat": 4,
 "nbformat_minor": 5
}
